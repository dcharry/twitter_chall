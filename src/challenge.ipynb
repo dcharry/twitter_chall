{
 "cells": [
  {
   "cell_type": "markdown",
   "metadata": {},
   "source": [
    "En este archivo puedes escribir lo que estimes conveniente. Te recomendamos detallar tu solución y todas las suposiciones que estás considerando. Aquí puedes ejecutar las funciones que definiste en los otros archivos de la carpeta src, medir el tiempo, memoria, etc."
   ]
  },
  {
   "cell_type": "markdown",
   "metadata": {},
   "source": [
    "## Preparacion Ambiente de trabajo.\n",
    "\n",
    "1. Entorno de trabajo: La solucion del desafio es desarrollada en un workbench de Vertex AI, la instancia utilizada es una e2-standar-2 de 2 CPU virtuales y 8 GB de RAM con python3 y conda previamente instalado.\n",
    "\n",
    "2. Para el manejo de versiones del desarrollo, se utilizara la herramienta GitHub, para la configuracion de este ambiente de trabajo se siguio los siguientes pasos:\n",
    "\n",
    "    a. Se descargo y se descomprimio la carpeta challenge_DE, la cual contiene la estructura del proyecto, brindada por el equipo de LATAM.\n",
    "    \n",
    "    b. Inicializacion GIT en la carpeta del proyecto: \n",
    "    - *git init*\n",
    "    \n",
    "    \n",
    "    c. Agregar los archivos al repositorio:\n",
    "    - *git add .*\n",
    "    \n",
    "    d. Realizacion del primer commit para registrar los archivos iniciales de repo:\n",
    "    - *git commit -m \"Initial commit w/ project skeleton*\n",
    "    \n",
    "    \n",
    "    e. Atenticacion con mi cuenta de GitHub personal:\n",
    "    - *gh auth login*\n",
    "    \n",
    "    \n",
    "    f. Creacion de un repositorio en GitHub, publico.\n",
    "    - *gh repo create twitter_chall --public --confirm*\n",
    "    \n",
    "    \n",
    "    g. Coneccion de mi repositorio local al repositorio remoto y realizacion del primer push de los cambios.\n",
    "    - *git remote add origin https://github.com/dcharry/twitter_chall.git*\n",
    "    - *git branch -M main*\n",
    "    - *git push -u origin main*"
   ]
  },
  {
   "cell_type": "code",
   "execution_count": 2,
   "metadata": {
    "tags": []
   },
   "outputs": [],
   "source": [
    "import pandas as pd\n",
    "import numpy as np"
   ]
  },
  {
   "cell_type": "markdown",
   "metadata": {},
   "source": [
    "## Lectura data de twitter\n",
    "\n",
    "1. En la terminal se installo la biblioteca gdwon para descargar el archivo desde google drive\n",
    "\n",
    "2. Se creo la carpeta src/data para descargar la data a trabajar.\n",
    "\n",
    "3. se corre el comando 'gdwon --id' para descargar el archivo usando el ID del drive, el cual es '1ig2ngoXFTxP5Pa8muXo02mDTFexZzsis' \n",
    "\n",
    "\n",
    "4. se descomprime el archivo utilizando el comando unzip en la terminal.\n",
    "\n",
    "5. El contenido es un archivo json, se utiliza la libreria pandas para abrir el archivo en formato panda.DataFrame y explorar su contenido. (Primer acercamiento a la data)\n",
    "\n",
    "\n",
    "\n"
   ]
  },
  {
   "cell_type": "code",
   "execution_count": 3,
   "metadata": {
    "tags": []
   },
   "outputs": [],
   "source": [
    "df = pd.read_json('data/farmers-protest-tweets-2021-2-4.json', lines = True)\n"
   ]
  },
  {
   "cell_type": "code",
   "execution_count": 4,
   "metadata": {
    "tags": []
   },
   "outputs": [
    {
     "data": {
      "text/html": [
       "<div>\n",
       "<style scoped>\n",
       "    .dataframe tbody tr th:only-of-type {\n",
       "        vertical-align: middle;\n",
       "    }\n",
       "\n",
       "    .dataframe tbody tr th {\n",
       "        vertical-align: top;\n",
       "    }\n",
       "\n",
       "    .dataframe thead th {\n",
       "        text-align: right;\n",
       "    }\n",
       "</style>\n",
       "<table border=\"1\" class=\"dataframe\">\n",
       "  <thead>\n",
       "    <tr style=\"text-align: right;\">\n",
       "      <th></th>\n",
       "      <th>url</th>\n",
       "      <th>date</th>\n",
       "      <th>content</th>\n",
       "      <th>renderedContent</th>\n",
       "      <th>id</th>\n",
       "      <th>user</th>\n",
       "      <th>outlinks</th>\n",
       "      <th>tcooutlinks</th>\n",
       "      <th>replyCount</th>\n",
       "      <th>retweetCount</th>\n",
       "      <th>...</th>\n",
       "      <th>quoteCount</th>\n",
       "      <th>conversationId</th>\n",
       "      <th>lang</th>\n",
       "      <th>source</th>\n",
       "      <th>sourceUrl</th>\n",
       "      <th>sourceLabel</th>\n",
       "      <th>media</th>\n",
       "      <th>retweetedTweet</th>\n",
       "      <th>quotedTweet</th>\n",
       "      <th>mentionedUsers</th>\n",
       "    </tr>\n",
       "  </thead>\n",
       "  <tbody>\n",
       "    <tr>\n",
       "      <th>0</th>\n",
       "      <td>https://twitter.com/ArjunSinghPanam/status/136...</td>\n",
       "      <td>2021-02-24 09:23:35+00:00</td>\n",
       "      <td>The world progresses while the Indian police a...</td>\n",
       "      <td>The world progresses while the Indian police a...</td>\n",
       "      <td>1364506249291784198</td>\n",
       "      <td>{'username': 'ArjunSinghPanam', 'displayname':...</td>\n",
       "      <td>[https://twitter.com/ravisinghka/status/136415...</td>\n",
       "      <td>[https://t.co/es3kn0IQAF]</td>\n",
       "      <td>0</td>\n",
       "      <td>0</td>\n",
       "      <td>...</td>\n",
       "      <td>0</td>\n",
       "      <td>1364506249291784198</td>\n",
       "      <td>en</td>\n",
       "      <td>&lt;a href=\"http://twitter.com/download/iphone\" r...</td>\n",
       "      <td>http://twitter.com/download/iphone</td>\n",
       "      <td>Twitter for iPhone</td>\n",
       "      <td>None</td>\n",
       "      <td>NaN</td>\n",
       "      <td>{'url': 'https://twitter.com/RaviSinghKA/statu...</td>\n",
       "      <td>[{'username': 'narendramodi', 'displayname': '...</td>\n",
       "    </tr>\n",
       "    <tr>\n",
       "      <th>1</th>\n",
       "      <td>https://twitter.com/PrdeepNain/status/13645062...</td>\n",
       "      <td>2021-02-24 09:23:32+00:00</td>\n",
       "      <td>#FarmersProtest \\n#ModiIgnoringFarmersDeaths \\...</td>\n",
       "      <td>#FarmersProtest \\n#ModiIgnoringFarmersDeaths \\...</td>\n",
       "      <td>1364506237451313155</td>\n",
       "      <td>{'username': 'PrdeepNain', 'displayname': 'Pra...</td>\n",
       "      <td>[]</td>\n",
       "      <td>[]</td>\n",
       "      <td>0</td>\n",
       "      <td>0</td>\n",
       "      <td>...</td>\n",
       "      <td>0</td>\n",
       "      <td>1364506237451313155</td>\n",
       "      <td>en</td>\n",
       "      <td>&lt;a href=\"http://twitter.com/download/android\" ...</td>\n",
       "      <td>http://twitter.com/download/android</td>\n",
       "      <td>Twitter for Android</td>\n",
       "      <td>[{'thumbnailUrl': 'https://pbs.twimg.com/ext_t...</td>\n",
       "      <td>NaN</td>\n",
       "      <td>None</td>\n",
       "      <td>[{'username': 'Kisanektamorcha', 'displayname'...</td>\n",
       "    </tr>\n",
       "    <tr>\n",
       "      <th>2</th>\n",
       "      <td>https://twitter.com/parmarmaninder/status/1364...</td>\n",
       "      <td>2021-02-24 09:23:22+00:00</td>\n",
       "      <td>ਪੈਟਰੋਲ ਦੀਆਂ ਕੀਮਤਾਂ ਨੂੰ ਮੱਦੇਨਜ਼ਰ ਰੱਖਦੇ ਹੋਏ \\nਮੇ...</td>\n",
       "      <td>ਪੈਟਰੋਲ ਦੀਆਂ ਕੀਮਤਾਂ ਨੂੰ ਮੱਦੇਨਜ਼ਰ ਰੱਖਦੇ ਹੋਏ \\nਮੇ...</td>\n",
       "      <td>1364506195453767680</td>\n",
       "      <td>{'username': 'parmarmaninder', 'displayname': ...</td>\n",
       "      <td>[]</td>\n",
       "      <td>[]</td>\n",
       "      <td>0</td>\n",
       "      <td>0</td>\n",
       "      <td>...</td>\n",
       "      <td>0</td>\n",
       "      <td>1364506195453767680</td>\n",
       "      <td>pa</td>\n",
       "      <td>&lt;a href=\"http://twitter.com/download/android\" ...</td>\n",
       "      <td>http://twitter.com/download/android</td>\n",
       "      <td>Twitter for Android</td>\n",
       "      <td>None</td>\n",
       "      <td>NaN</td>\n",
       "      <td>None</td>\n",
       "      <td>None</td>\n",
       "    </tr>\n",
       "    <tr>\n",
       "      <th>3</th>\n",
       "      <td>https://twitter.com/anmoldhaliwal/status/13645...</td>\n",
       "      <td>2021-02-24 09:23:16+00:00</td>\n",
       "      <td>@ReallySwara @rohini_sgh watch full video here...</td>\n",
       "      <td>@ReallySwara @rohini_sgh watch full video here...</td>\n",
       "      <td>1364506167226032128</td>\n",
       "      <td>{'username': 'anmoldhaliwal', 'displayname': '...</td>\n",
       "      <td>[https://youtu.be/-bUKumwq-J8]</td>\n",
       "      <td>[https://t.co/wBPNdJdB0n]</td>\n",
       "      <td>0</td>\n",
       "      <td>0</td>\n",
       "      <td>...</td>\n",
       "      <td>0</td>\n",
       "      <td>1364350947099484160</td>\n",
       "      <td>en</td>\n",
       "      <td>&lt;a href=\"https://mobile.twitter.com\" rel=\"nofo...</td>\n",
       "      <td>https://mobile.twitter.com</td>\n",
       "      <td>Twitter Web App</td>\n",
       "      <td>[{'thumbnailUrl': 'https://pbs.twimg.com/ext_t...</td>\n",
       "      <td>NaN</td>\n",
       "      <td>None</td>\n",
       "      <td>[{'username': 'ReallySwara', 'displayname': 'S...</td>\n",
       "    </tr>\n",
       "    <tr>\n",
       "      <th>4</th>\n",
       "      <td>https://twitter.com/KotiaPreet/status/13645061...</td>\n",
       "      <td>2021-02-24 09:23:10+00:00</td>\n",
       "      <td>#KisanEktaMorcha #FarmersProtest #NoFarmersNoF...</td>\n",
       "      <td>#KisanEktaMorcha #FarmersProtest #NoFarmersNoF...</td>\n",
       "      <td>1364506144002088963</td>\n",
       "      <td>{'username': 'KotiaPreet', 'displayname': 'Pre...</td>\n",
       "      <td>[]</td>\n",
       "      <td>[]</td>\n",
       "      <td>0</td>\n",
       "      <td>0</td>\n",
       "      <td>...</td>\n",
       "      <td>0</td>\n",
       "      <td>1364506144002088963</td>\n",
       "      <td>und</td>\n",
       "      <td>&lt;a href=\"http://twitter.com/download/iphone\" r...</td>\n",
       "      <td>http://twitter.com/download/iphone</td>\n",
       "      <td>Twitter for iPhone</td>\n",
       "      <td>[{'previewUrl': 'https://pbs.twimg.com/media/E...</td>\n",
       "      <td>NaN</td>\n",
       "      <td>None</td>\n",
       "      <td>None</td>\n",
       "    </tr>\n",
       "  </tbody>\n",
       "</table>\n",
       "<p>5 rows × 21 columns</p>\n",
       "</div>"
      ],
      "text/plain": [
       "                                                 url  \\\n",
       "0  https://twitter.com/ArjunSinghPanam/status/136...   \n",
       "1  https://twitter.com/PrdeepNain/status/13645062...   \n",
       "2  https://twitter.com/parmarmaninder/status/1364...   \n",
       "3  https://twitter.com/anmoldhaliwal/status/13645...   \n",
       "4  https://twitter.com/KotiaPreet/status/13645061...   \n",
       "\n",
       "                       date  \\\n",
       "0 2021-02-24 09:23:35+00:00   \n",
       "1 2021-02-24 09:23:32+00:00   \n",
       "2 2021-02-24 09:23:22+00:00   \n",
       "3 2021-02-24 09:23:16+00:00   \n",
       "4 2021-02-24 09:23:10+00:00   \n",
       "\n",
       "                                             content  \\\n",
       "0  The world progresses while the Indian police a...   \n",
       "1  #FarmersProtest \\n#ModiIgnoringFarmersDeaths \\...   \n",
       "2  ਪੈਟਰੋਲ ਦੀਆਂ ਕੀਮਤਾਂ ਨੂੰ ਮੱਦੇਨਜ਼ਰ ਰੱਖਦੇ ਹੋਏ \\nਮੇ...   \n",
       "3  @ReallySwara @rohini_sgh watch full video here...   \n",
       "4  #KisanEktaMorcha #FarmersProtest #NoFarmersNoF...   \n",
       "\n",
       "                                     renderedContent                   id  \\\n",
       "0  The world progresses while the Indian police a...  1364506249291784198   \n",
       "1  #FarmersProtest \\n#ModiIgnoringFarmersDeaths \\...  1364506237451313155   \n",
       "2  ਪੈਟਰੋਲ ਦੀਆਂ ਕੀਮਤਾਂ ਨੂੰ ਮੱਦੇਨਜ਼ਰ ਰੱਖਦੇ ਹੋਏ \\nਮੇ...  1364506195453767680   \n",
       "3  @ReallySwara @rohini_sgh watch full video here...  1364506167226032128   \n",
       "4  #KisanEktaMorcha #FarmersProtest #NoFarmersNoF...  1364506144002088963   \n",
       "\n",
       "                                                user  \\\n",
       "0  {'username': 'ArjunSinghPanam', 'displayname':...   \n",
       "1  {'username': 'PrdeepNain', 'displayname': 'Pra...   \n",
       "2  {'username': 'parmarmaninder', 'displayname': ...   \n",
       "3  {'username': 'anmoldhaliwal', 'displayname': '...   \n",
       "4  {'username': 'KotiaPreet', 'displayname': 'Pre...   \n",
       "\n",
       "                                            outlinks  \\\n",
       "0  [https://twitter.com/ravisinghka/status/136415...   \n",
       "1                                                 []   \n",
       "2                                                 []   \n",
       "3                     [https://youtu.be/-bUKumwq-J8]   \n",
       "4                                                 []   \n",
       "\n",
       "                 tcooutlinks  replyCount  retweetCount  ...  quoteCount  \\\n",
       "0  [https://t.co/es3kn0IQAF]           0             0  ...           0   \n",
       "1                         []           0             0  ...           0   \n",
       "2                         []           0             0  ...           0   \n",
       "3  [https://t.co/wBPNdJdB0n]           0             0  ...           0   \n",
       "4                         []           0             0  ...           0   \n",
       "\n",
       "        conversationId  lang  \\\n",
       "0  1364506249291784198    en   \n",
       "1  1364506237451313155    en   \n",
       "2  1364506195453767680    pa   \n",
       "3  1364350947099484160    en   \n",
       "4  1364506144002088963   und   \n",
       "\n",
       "                                              source  \\\n",
       "0  <a href=\"http://twitter.com/download/iphone\" r...   \n",
       "1  <a href=\"http://twitter.com/download/android\" ...   \n",
       "2  <a href=\"http://twitter.com/download/android\" ...   \n",
       "3  <a href=\"https://mobile.twitter.com\" rel=\"nofo...   \n",
       "4  <a href=\"http://twitter.com/download/iphone\" r...   \n",
       "\n",
       "                             sourceUrl          sourceLabel  \\\n",
       "0   http://twitter.com/download/iphone   Twitter for iPhone   \n",
       "1  http://twitter.com/download/android  Twitter for Android   \n",
       "2  http://twitter.com/download/android  Twitter for Android   \n",
       "3           https://mobile.twitter.com      Twitter Web App   \n",
       "4   http://twitter.com/download/iphone   Twitter for iPhone   \n",
       "\n",
       "                                               media retweetedTweet  \\\n",
       "0                                               None            NaN   \n",
       "1  [{'thumbnailUrl': 'https://pbs.twimg.com/ext_t...            NaN   \n",
       "2                                               None            NaN   \n",
       "3  [{'thumbnailUrl': 'https://pbs.twimg.com/ext_t...            NaN   \n",
       "4  [{'previewUrl': 'https://pbs.twimg.com/media/E...            NaN   \n",
       "\n",
       "                                         quotedTweet  \\\n",
       "0  {'url': 'https://twitter.com/RaviSinghKA/statu...   \n",
       "1                                               None   \n",
       "2                                               None   \n",
       "3                                               None   \n",
       "4                                               None   \n",
       "\n",
       "                                      mentionedUsers  \n",
       "0  [{'username': 'narendramodi', 'displayname': '...  \n",
       "1  [{'username': 'Kisanektamorcha', 'displayname'...  \n",
       "2                                               None  \n",
       "3  [{'username': 'ReallySwara', 'displayname': 'S...  \n",
       "4                                               None  \n",
       "\n",
       "[5 rows x 21 columns]"
      ]
     },
     "execution_count": 4,
     "metadata": {},
     "output_type": "execute_result"
    }
   ],
   "source": [
    "df.head()"
   ]
  },
  {
   "cell_type": "code",
   "execution_count": 5,
   "metadata": {
    "tags": []
   },
   "outputs": [
    {
     "data": {
      "text/html": [
       "<div>\n",
       "<style scoped>\n",
       "    .dataframe tbody tr th:only-of-type {\n",
       "        vertical-align: middle;\n",
       "    }\n",
       "\n",
       "    .dataframe tbody tr th {\n",
       "        vertical-align: top;\n",
       "    }\n",
       "\n",
       "    .dataframe thead th {\n",
       "        text-align: right;\n",
       "    }\n",
       "</style>\n",
       "<table border=\"1\" class=\"dataframe\">\n",
       "  <thead>\n",
       "    <tr style=\"text-align: right;\">\n",
       "      <th></th>\n",
       "      <th>id</th>\n",
       "      <th>replyCount</th>\n",
       "      <th>retweetCount</th>\n",
       "      <th>likeCount</th>\n",
       "      <th>quoteCount</th>\n",
       "      <th>conversationId</th>\n",
       "      <th>retweetedTweet</th>\n",
       "    </tr>\n",
       "  </thead>\n",
       "  <tbody>\n",
       "    <tr>\n",
       "      <th>count</th>\n",
       "      <td>1.174070e+05</td>\n",
       "      <td>117407.000000</td>\n",
       "      <td>117407.000000</td>\n",
       "      <td>117407.000000</td>\n",
       "      <td>117407.000000</td>\n",
       "      <td>1.174070e+05</td>\n",
       "      <td>0.0</td>\n",
       "    </tr>\n",
       "    <tr>\n",
       "      <th>mean</th>\n",
       "      <td>1.362062e+18</td>\n",
       "      <td>0.631410</td>\n",
       "      <td>5.045619</td>\n",
       "      <td>14.609674</td>\n",
       "      <td>0.336241</td>\n",
       "      <td>1.361764e+18</td>\n",
       "      <td>NaN</td>\n",
       "    </tr>\n",
       "    <tr>\n",
       "      <th>std</th>\n",
       "      <td>1.293803e+15</td>\n",
       "      <td>9.436159</td>\n",
       "      <td>58.237370</td>\n",
       "      <td>229.083983</td>\n",
       "      <td>4.474576</td>\n",
       "      <td>1.294352e+16</td>\n",
       "      <td>NaN</td>\n",
       "    </tr>\n",
       "    <tr>\n",
       "      <th>min</th>\n",
       "      <td>1.360040e+18</td>\n",
       "      <td>0.000000</td>\n",
       "      <td>0.000000</td>\n",
       "      <td>0.000000</td>\n",
       "      <td>0.000000</td>\n",
       "      <td>1.981606e+10</td>\n",
       "      <td>NaN</td>\n",
       "    </tr>\n",
       "    <tr>\n",
       "      <th>25%</th>\n",
       "      <td>1.360935e+18</td>\n",
       "      <td>0.000000</td>\n",
       "      <td>0.000000</td>\n",
       "      <td>0.000000</td>\n",
       "      <td>0.000000</td>\n",
       "      <td>1.360887e+18</td>\n",
       "      <td>NaN</td>\n",
       "    </tr>\n",
       "    <tr>\n",
       "      <th>50%</th>\n",
       "      <td>1.361945e+18</td>\n",
       "      <td>0.000000</td>\n",
       "      <td>0.000000</td>\n",
       "      <td>1.000000</td>\n",
       "      <td>0.000000</td>\n",
       "      <td>1.361914e+18</td>\n",
       "      <td>NaN</td>\n",
       "    </tr>\n",
       "    <tr>\n",
       "      <th>75%</th>\n",
       "      <td>1.363097e+18</td>\n",
       "      <td>0.000000</td>\n",
       "      <td>1.000000</td>\n",
       "      <td>2.000000</td>\n",
       "      <td>0.000000</td>\n",
       "      <td>1.363068e+18</td>\n",
       "      <td>NaN</td>\n",
       "    </tr>\n",
       "    <tr>\n",
       "      <th>max</th>\n",
       "      <td>1.364506e+18</td>\n",
       "      <td>1291.000000</td>\n",
       "      <td>7723.000000</td>\n",
       "      <td>27888.000000</td>\n",
       "      <td>756.000000</td>\n",
       "      <td>1.364506e+18</td>\n",
       "      <td>NaN</td>\n",
       "    </tr>\n",
       "  </tbody>\n",
       "</table>\n",
       "</div>"
      ],
      "text/plain": [
       "                 id     replyCount   retweetCount      likeCount  \\\n",
       "count  1.174070e+05  117407.000000  117407.000000  117407.000000   \n",
       "mean   1.362062e+18       0.631410       5.045619      14.609674   \n",
       "std    1.293803e+15       9.436159      58.237370     229.083983   \n",
       "min    1.360040e+18       0.000000       0.000000       0.000000   \n",
       "25%    1.360935e+18       0.000000       0.000000       0.000000   \n",
       "50%    1.361945e+18       0.000000       0.000000       1.000000   \n",
       "75%    1.363097e+18       0.000000       1.000000       2.000000   \n",
       "max    1.364506e+18    1291.000000    7723.000000   27888.000000   \n",
       "\n",
       "          quoteCount  conversationId  retweetedTweet  \n",
       "count  117407.000000    1.174070e+05             0.0  \n",
       "mean        0.336241    1.361764e+18             NaN  \n",
       "std         4.474576    1.294352e+16             NaN  \n",
       "min         0.000000    1.981606e+10             NaN  \n",
       "25%         0.000000    1.360887e+18             NaN  \n",
       "50%         0.000000    1.361914e+18             NaN  \n",
       "75%         0.000000    1.363068e+18             NaN  \n",
       "max       756.000000    1.364506e+18             NaN  "
      ]
     },
     "execution_count": 5,
     "metadata": {},
     "output_type": "execute_result"
    }
   ],
   "source": [
    "df.describe()"
   ]
  },
  {
   "cell_type": "markdown",
   "metadata": {},
   "source": [
    "## Pre-procesamiento Data\n",
    "\n",
    "En esta seccion se abora una etapa de exploracion y pre-procesamiento de la data, para entender sus valores, normalizar la data, hacer limpieza de ser necesario y demas, una vez la etapa de exploracion sea concluida, podemos crear un modulo, de ser necesario, encargado de ejecutar las funciones necesarias para el pre-procesamiento de los datos"
   ]
  },
  {
   "cell_type": "markdown",
   "metadata": {},
   "source": [
    "#### Punto 1.\n",
    "\n",
    "- Para abarcar el punto 1 se requiere trabajar con la columna 'date' y 'user' para extraer el top 10 de fechas con mas tweets y el ususario con mas publicaciones \n",
    "\n",
    "Iniciaremos trabajando con la columna date, procesandola en pandas y convirtiendola en formato DataTime.\n",
    "\n",
    "**Nota:** Todo el analisis exploratorio se realizaran en pandas, no se hara pensado en optimizar memoria debido a que es el primer acercamiento a la data, analizando las problematicas y columnas involucradas en cada una, para la deteccion de algun tipo de transfomacion en la data de ser requerido, esta exploracion no es la solucion final de cada uno de los puntos, esta solucion sera realizada en los modulos de python correspondientes, sin embargo se deja el analisis dentro del notebook por motivos de seguimiento de pensamiento logico de la solucion. "
   ]
  },
  {
   "cell_type": "code",
   "execution_count": 6,
   "metadata": {
    "tags": []
   },
   "outputs": [
    {
     "data": {
      "text/plain": [
       "0         2021-02-24\n",
       "1         2021-02-24\n",
       "2         2021-02-24\n",
       "3         2021-02-24\n",
       "4         2021-02-24\n",
       "             ...    \n",
       "117402    2021-02-12\n",
       "117403    2021-02-12\n",
       "117404    2021-02-12\n",
       "117405    2021-02-12\n",
       "117406    2021-02-12\n",
       "Name: newDate, Length: 117407, dtype: object"
      ]
     },
     "execution_count": 6,
     "metadata": {},
     "output_type": "execute_result"
    }
   ],
   "source": [
    "df['newDate']= pd.to_datetime(df['date']).dt.date\n",
    "\n",
    "df['newDate']"
   ]
  },
  {
   "cell_type": "markdown",
   "metadata": {},
   "source": [
    "*Utilizacion de funcion **value_counts** de pandas para realizar un conteo de la frecuencia de cada una de las fechas y asi optener el top 10*"
   ]
  },
  {
   "cell_type": "code",
   "execution_count": 7,
   "metadata": {
    "tags": []
   },
   "outputs": [],
   "source": [
    "top_dates= df['newDate'].value_counts().head(10).index "
   ]
  },
  {
   "cell_type": "code",
   "execution_count": 8,
   "metadata": {
    "tags": []
   },
   "outputs": [
    {
     "data": {
      "text/plain": [
       "Index([2021-02-12, 2021-02-13, 2021-02-17, 2021-02-16, 2021-02-14, 2021-02-18,\n",
       "       2021-02-15, 2021-02-20, 2021-02-23, 2021-02-19],\n",
       "      dtype='object', name='newDate')"
      ]
     },
     "execution_count": 8,
     "metadata": {},
     "output_type": "execute_result"
    }
   ],
   "source": [
    "top_dates"
   ]
  },
  {
   "cell_type": "code",
   "execution_count": 9,
   "metadata": {
    "tags": []
   },
   "outputs": [
    {
     "data": {
      "text/plain": [
       "{'username': 'ArjunSinghPanam',\n",
       " 'displayname': 'Arjun Singh Panam',\n",
       " 'id': 45091142,\n",
       " 'description': 'Global Citizen, Actor, Director: Sky is the roof above my head, the world is the road I travel, love is my food & mother earth is my bed. Roy in @CosmosMovie',\n",
       " 'rawDescription': 'Global Citizen, Actor, Director: Sky is the roof above my head, the world is the road I travel, love is my food & mother earth is my bed. Roy in @CosmosMovie',\n",
       " 'descriptionUrls': [],\n",
       " 'verified': False,\n",
       " 'created': '2009-06-06T07:50:57+00:00',\n",
       " 'followersCount': 603,\n",
       " 'friendsCount': 311,\n",
       " 'statusesCount': 17534,\n",
       " 'favouritesCount': 4269,\n",
       " 'listedCount': 23,\n",
       " 'mediaCount': 1211,\n",
       " 'location': '',\n",
       " 'protected': False,\n",
       " 'linkUrl': 'https://www.cosmosmovieofficial.com',\n",
       " 'linkTcourl': 'https://t.co/3uaoV3gCt3',\n",
       " 'profileImageUrl': 'https://pbs.twimg.com/profile_images/1215541746492461056/3De61YoQ_normal.jpg',\n",
       " 'profileBannerUrl': 'https://pbs.twimg.com/profile_banners/45091142/1612601766',\n",
       " 'url': 'https://twitter.com/ArjunSinghPanam'}"
      ]
     },
     "execution_count": 9,
     "metadata": {},
     "output_type": "execute_result"
    }
   ],
   "source": [
    "df['user'][0]"
   ]
  },
  {
   "cell_type": "markdown",
   "metadata": {},
   "source": [
    "*Se observa que la columna **user** es un diccionario de datos, donde el indice **username** contiene el nombre del usuario. Con este hallazgo en mente, podemos filtrar el DataFrame por una de las fechas dentro del top 10, obteniendo asi los tweets para ese dia en especifico, luego hacer uso de la funcion **lambda** de python para recorrer cada usuario dentro de la columna **user**, extrayendo su nombre y realizando un conteo de frecuencia, de nuevo con la funcion **value_counts***"
   ]
  },
  {
   "cell_type": "code",
   "execution_count": 10,
   "metadata": {
    "tags": []
   },
   "outputs": [],
   "source": [
    "sub_df= df[df['newDate'] == top_dates[0]]\n",
    "top_user2 = sub_df['user'].apply(lambda x: x['username']).value_counts()"
   ]
  },
  {
   "cell_type": "code",
   "execution_count": 11,
   "metadata": {
    "tags": []
   },
   "outputs": [
    {
     "data": {
      "text/plain": [
       "user\n",
       "RanbirS00614606    176\n",
       "ammiedgr8          116\n",
       "rebelpacifist      109\n",
       "lovehazran1         94\n",
       "Davinder_001        82\n",
       "                  ... \n",
       "imayanmajumdar       1\n",
       "Nirbhanyadaviyc      1\n",
       "AnoopChanot          1\n",
       "HindiNews18          1\n",
       "rickyrickstir        1\n",
       "Name: count, Length: 5817, dtype: int64"
      ]
     },
     "execution_count": 11,
     "metadata": {},
     "output_type": "execute_result"
    }
   ],
   "source": [
    "top_user2"
   ]
  },
  {
   "cell_type": "code",
   "execution_count": 12,
   "metadata": {
    "tags": []
   },
   "outputs": [
    {
     "data": {
      "text/html": [
       "<div>\n",
       "<style scoped>\n",
       "    .dataframe tbody tr th:only-of-type {\n",
       "        vertical-align: middle;\n",
       "    }\n",
       "\n",
       "    .dataframe tbody tr th {\n",
       "        vertical-align: top;\n",
       "    }\n",
       "\n",
       "    .dataframe thead th {\n",
       "        text-align: right;\n",
       "    }\n",
       "</style>\n",
       "<table border=\"1\" class=\"dataframe\">\n",
       "  <thead>\n",
       "    <tr style=\"text-align: right;\">\n",
       "      <th></th>\n",
       "      <th>url</th>\n",
       "      <th>date</th>\n",
       "      <th>content</th>\n",
       "      <th>renderedContent</th>\n",
       "      <th>id</th>\n",
       "      <th>user</th>\n",
       "      <th>outlinks</th>\n",
       "      <th>tcooutlinks</th>\n",
       "      <th>replyCount</th>\n",
       "      <th>retweetCount</th>\n",
       "      <th>...</th>\n",
       "      <th>conversationId</th>\n",
       "      <th>lang</th>\n",
       "      <th>source</th>\n",
       "      <th>sourceUrl</th>\n",
       "      <th>sourceLabel</th>\n",
       "      <th>media</th>\n",
       "      <th>retweetedTweet</th>\n",
       "      <th>quotedTweet</th>\n",
       "      <th>mentionedUsers</th>\n",
       "      <th>newDate</th>\n",
       "    </tr>\n",
       "  </thead>\n",
       "  <tbody>\n",
       "    <tr>\n",
       "      <th>105060</th>\n",
       "      <td>https://twitter.com/Aman96442728/status/136037...</td>\n",
       "      <td>2021-02-12 23:59:59+00:00</td>\n",
       "      <td>#FarmersProtest</td>\n",
       "      <td>#FarmersProtest</td>\n",
       "      <td>1360378149003874305</td>\n",
       "      <td>{'username': 'Aman96442728', 'displayname': 'A...</td>\n",
       "      <td>[]</td>\n",
       "      <td>[]</td>\n",
       "      <td>0</td>\n",
       "      <td>0</td>\n",
       "      <td>...</td>\n",
       "      <td>1360378149003874305</td>\n",
       "      <td>und</td>\n",
       "      <td>&lt;a href=\"http://twitter.com/download/iphone\" r...</td>\n",
       "      <td>http://twitter.com/download/iphone</td>\n",
       "      <td>Twitter for iPhone</td>\n",
       "      <td>None</td>\n",
       "      <td>NaN</td>\n",
       "      <td>None</td>\n",
       "      <td>None</td>\n",
       "      <td>2021-02-12</td>\n",
       "    </tr>\n",
       "    <tr>\n",
       "      <th>105061</th>\n",
       "      <td>https://twitter.com/Gurpreetd86/status/1360378...</td>\n",
       "      <td>2021-02-12 23:59:57+00:00</td>\n",
       "      <td>#nodeepkaur #freejagginow #MahapanchayatRevolu...</td>\n",
       "      <td>#nodeepkaur #freejagginow #MahapanchayatRevolu...</td>\n",
       "      <td>1360378137046118400</td>\n",
       "      <td>{'username': 'Gurpreetd86', 'displayname': 'Gu...</td>\n",
       "      <td>[https://twitter.com/UK51NGH/status/1360377290...</td>\n",
       "      <td>[https://t.co/haAroa5swm]</td>\n",
       "      <td>0</td>\n",
       "      <td>0</td>\n",
       "      <td>...</td>\n",
       "      <td>1360378137046118400</td>\n",
       "      <td>und</td>\n",
       "      <td>&lt;a href=\"http://twitter.com/download/android\" ...</td>\n",
       "      <td>http://twitter.com/download/android</td>\n",
       "      <td>Twitter for Android</td>\n",
       "      <td>None</td>\n",
       "      <td>NaN</td>\n",
       "      <td>{'url': 'https://twitter.com/UK51NGH/status/13...</td>\n",
       "      <td>None</td>\n",
       "      <td>2021-02-12</td>\n",
       "    </tr>\n",
       "    <tr>\n",
       "      <th>105062</th>\n",
       "      <td>https://twitter.com/Gurpreetd86/status/1360378...</td>\n",
       "      <td>2021-02-12 23:59:40+00:00</td>\n",
       "      <td>@BaazNewsOrg #nodeepkaur #freejagginow #Mahapa...</td>\n",
       "      <td>@BaazNewsOrg #nodeepkaur #freejagginow #Mahapa...</td>\n",
       "      <td>1360378065499602947</td>\n",
       "      <td>{'username': 'Gurpreetd86', 'displayname': 'Gu...</td>\n",
       "      <td>[]</td>\n",
       "      <td>[]</td>\n",
       "      <td>0</td>\n",
       "      <td>0</td>\n",
       "      <td>...</td>\n",
       "      <td>1360308284922728451</td>\n",
       "      <td>und</td>\n",
       "      <td>&lt;a href=\"http://twitter.com/download/android\" ...</td>\n",
       "      <td>http://twitter.com/download/android</td>\n",
       "      <td>Twitter for Android</td>\n",
       "      <td>None</td>\n",
       "      <td>NaN</td>\n",
       "      <td>None</td>\n",
       "      <td>[{'username': 'BaazNewsOrg', 'displayname': 'B...</td>\n",
       "      <td>2021-02-12</td>\n",
       "    </tr>\n",
       "    <tr>\n",
       "      <th>105063</th>\n",
       "      <td>https://twitter.com/Gurpreetd86/status/1360377...</td>\n",
       "      <td>2021-02-12 23:59:16+00:00</td>\n",
       "      <td>#nodeepkaur #freejagginow #MahapanchayatRevolu...</td>\n",
       "      <td>#nodeepkaur #freejagginow #MahapanchayatRevolu...</td>\n",
       "      <td>1360377968699338754</td>\n",
       "      <td>{'username': 'Gurpreetd86', 'displayname': 'Gu...</td>\n",
       "      <td>[https://twitter.com/BaazNewsOrg/status/136030...</td>\n",
       "      <td>[https://t.co/gy7cpgwHWK]</td>\n",
       "      <td>0</td>\n",
       "      <td>0</td>\n",
       "      <td>...</td>\n",
       "      <td>1360377968699338754</td>\n",
       "      <td>und</td>\n",
       "      <td>&lt;a href=\"http://twitter.com/download/android\" ...</td>\n",
       "      <td>http://twitter.com/download/android</td>\n",
       "      <td>Twitter for Android</td>\n",
       "      <td>None</td>\n",
       "      <td>NaN</td>\n",
       "      <td>{'url': 'https://twitter.com/BaazNewsOrg/statu...</td>\n",
       "      <td>None</td>\n",
       "      <td>2021-02-12</td>\n",
       "    </tr>\n",
       "    <tr>\n",
       "      <th>105064</th>\n",
       "      <td>https://twitter.com/gpd_bhangra/status/1360377...</td>\n",
       "      <td>2021-02-12 23:59:07+00:00</td>\n",
       "      <td>#FarmersProtest https://t.co/5PArZdboy0</td>\n",
       "      <td>#FarmersProtest https://t.co/5PArZdboy0</td>\n",
       "      <td>1360377930040430594</td>\n",
       "      <td>{'username': 'gpd_bhangra', 'displayname': 'Ga...</td>\n",
       "      <td>[]</td>\n",
       "      <td>[]</td>\n",
       "      <td>1</td>\n",
       "      <td>0</td>\n",
       "      <td>...</td>\n",
       "      <td>1360377930040430594</td>\n",
       "      <td>und</td>\n",
       "      <td>&lt;a href=\"http://twitter.com/download/iphone\" r...</td>\n",
       "      <td>http://twitter.com/download/iphone</td>\n",
       "      <td>Twitter for iPhone</td>\n",
       "      <td>[{'previewUrl': 'https://pbs.twimg.com/media/E...</td>\n",
       "      <td>NaN</td>\n",
       "      <td>None</td>\n",
       "      <td>None</td>\n",
       "      <td>2021-02-12</td>\n",
       "    </tr>\n",
       "    <tr>\n",
       "      <th>...</th>\n",
       "      <td>...</td>\n",
       "      <td>...</td>\n",
       "      <td>...</td>\n",
       "      <td>...</td>\n",
       "      <td>...</td>\n",
       "      <td>...</td>\n",
       "      <td>...</td>\n",
       "      <td>...</td>\n",
       "      <td>...</td>\n",
       "      <td>...</td>\n",
       "      <td>...</td>\n",
       "      <td>...</td>\n",
       "      <td>...</td>\n",
       "      <td>...</td>\n",
       "      <td>...</td>\n",
       "      <td>...</td>\n",
       "      <td>...</td>\n",
       "      <td>...</td>\n",
       "      <td>...</td>\n",
       "      <td>...</td>\n",
       "      <td>...</td>\n",
       "    </tr>\n",
       "    <tr>\n",
       "      <th>117402</th>\n",
       "      <td>https://twitter.com/rickyrickstir/status/13600...</td>\n",
       "      <td>2021-02-12 01:37:02+00:00</td>\n",
       "      <td>#FarmersProtest #KisanAndolan #KisaanMajdoorEk...</td>\n",
       "      <td>#FarmersProtest #KisanAndolan #KisaanMajdoorEk...</td>\n",
       "      <td>1360040182771163138</td>\n",
       "      <td>{'username': 'rickyrickstir', 'displayname': '...</td>\n",
       "      <td>[]</td>\n",
       "      <td>[]</td>\n",
       "      <td>0</td>\n",
       "      <td>0</td>\n",
       "      <td>...</td>\n",
       "      <td>1360040182771163138</td>\n",
       "      <td>und</td>\n",
       "      <td>&lt;a href=\"http://twitter.com/download/iphone\" r...</td>\n",
       "      <td>http://twitter.com/download/iphone</td>\n",
       "      <td>Twitter for iPhone</td>\n",
       "      <td>None</td>\n",
       "      <td>NaN</td>\n",
       "      <td>None</td>\n",
       "      <td>None</td>\n",
       "      <td>2021-02-12</td>\n",
       "    </tr>\n",
       "    <tr>\n",
       "      <th>117403</th>\n",
       "      <td>https://twitter.com/PunjabTak/status/136004014...</td>\n",
       "      <td>2021-02-12 01:36:53+00:00</td>\n",
       "      <td>PM मोदी की अपील के बीच संयुक्त किसान मोर्चा का...</td>\n",
       "      <td>PM मोदी की अपील के बीच संयुक्त किसान मोर्चा का...</td>\n",
       "      <td>1360040146402373637</td>\n",
       "      <td>{'username': 'PunjabTak', 'displayname': 'Punj...</td>\n",
       "      <td>[https://youtu.be/aG3qHGwoYag]</td>\n",
       "      <td>[https://t.co/AzZNOGI8BX]</td>\n",
       "      <td>0</td>\n",
       "      <td>0</td>\n",
       "      <td>...</td>\n",
       "      <td>1360040146402373637</td>\n",
       "      <td>hi</td>\n",
       "      <td>&lt;a href=\"https://mobile.twitter.com\" rel=\"nofo...</td>\n",
       "      <td>https://mobile.twitter.com</td>\n",
       "      <td>Twitter Web App</td>\n",
       "      <td>[{'previewUrl': 'https://pbs.twimg.com/media/E...</td>\n",
       "      <td>NaN</td>\n",
       "      <td>None</td>\n",
       "      <td>None</td>\n",
       "      <td>2021-02-12</td>\n",
       "    </tr>\n",
       "    <tr>\n",
       "      <th>117404</th>\n",
       "      <td>https://twitter.com/ish_kayy/status/1360040134...</td>\n",
       "      <td>2021-02-12 01:36:50+00:00</td>\n",
       "      <td>United we stand.\\nDivided we fall\\n#Mahapancha...</td>\n",
       "      <td>United we stand.\\nDivided we fall\\n#Mahapancha...</td>\n",
       "      <td>1360040134230556678</td>\n",
       "      <td>{'username': 'ish_kayy', 'displayname': 'ishy'...</td>\n",
       "      <td>[]</td>\n",
       "      <td>[]</td>\n",
       "      <td>0</td>\n",
       "      <td>65</td>\n",
       "      <td>...</td>\n",
       "      <td>1360040134230556678</td>\n",
       "      <td>en</td>\n",
       "      <td>&lt;a href=\"https://mobile.twitter.com\" rel=\"nofo...</td>\n",
       "      <td>https://mobile.twitter.com</td>\n",
       "      <td>Twitter Web App</td>\n",
       "      <td>[{'previewUrl': 'https://pbs.twimg.com/media/E...</td>\n",
       "      <td>NaN</td>\n",
       "      <td>None</td>\n",
       "      <td>None</td>\n",
       "      <td>2021-02-12</td>\n",
       "    </tr>\n",
       "    <tr>\n",
       "      <th>117405</th>\n",
       "      <td>https://twitter.com/TV9Bharatvarsh/status/1360...</td>\n",
       "      <td>2021-02-12 01:36:49+00:00</td>\n",
       "      <td>सिंघु बॉर्डर पर लंबी लड़ाई की तैयारी, किसानों ...</td>\n",
       "      <td>सिंघु बॉर्डर पर लंबी लड़ाई की तैयारी, किसानों ...</td>\n",
       "      <td>1360040127679000577</td>\n",
       "      <td>{'username': 'TV9Bharatvarsh', 'displayname': ...</td>\n",
       "      <td>[https://www.tv9hindi.com/india/farmers-protes...</td>\n",
       "      <td>[https://t.co/bkjh7WXc0w]</td>\n",
       "      <td>0</td>\n",
       "      <td>1</td>\n",
       "      <td>...</td>\n",
       "      <td>1360040127679000577</td>\n",
       "      <td>hi</td>\n",
       "      <td>&lt;a href=\"https://mobile.twitter.com\" rel=\"nofo...</td>\n",
       "      <td>https://mobile.twitter.com</td>\n",
       "      <td>Twitter Web App</td>\n",
       "      <td>None</td>\n",
       "      <td>NaN</td>\n",
       "      <td>None</td>\n",
       "      <td>None</td>\n",
       "      <td>2021-02-12</td>\n",
       "    </tr>\n",
       "    <tr>\n",
       "      <th>117406</th>\n",
       "      <td>https://twitter.com/SikhVibes/status/136004012...</td>\n",
       "      <td>2021-02-12 01:36:49+00:00</td>\n",
       "      <td>@Kisanektamorcha We are with you, keep the mor...</td>\n",
       "      <td>@Kisanektamorcha We are with you, keep the mor...</td>\n",
       "      <td>1360040127146430470</td>\n",
       "      <td>{'username': 'SikhVibes', 'displayname': 'Sikh...</td>\n",
       "      <td>[]</td>\n",
       "      <td>[]</td>\n",
       "      <td>2</td>\n",
       "      <td>19</td>\n",
       "      <td>...</td>\n",
       "      <td>1360038291471388672</td>\n",
       "      <td>en</td>\n",
       "      <td>&lt;a href=\"http://twitter.com/download/iphone\" r...</td>\n",
       "      <td>http://twitter.com/download/iphone</td>\n",
       "      <td>Twitter for iPhone</td>\n",
       "      <td>None</td>\n",
       "      <td>NaN</td>\n",
       "      <td>None</td>\n",
       "      <td>[{'username': 'Kisanektamorcha', 'displayname'...</td>\n",
       "      <td>2021-02-12</td>\n",
       "    </tr>\n",
       "  </tbody>\n",
       "</table>\n",
       "<p>12347 rows × 22 columns</p>\n",
       "</div>"
      ],
      "text/plain": [
       "                                                      url  \\\n",
       "105060  https://twitter.com/Aman96442728/status/136037...   \n",
       "105061  https://twitter.com/Gurpreetd86/status/1360378...   \n",
       "105062  https://twitter.com/Gurpreetd86/status/1360378...   \n",
       "105063  https://twitter.com/Gurpreetd86/status/1360377...   \n",
       "105064  https://twitter.com/gpd_bhangra/status/1360377...   \n",
       "...                                                   ...   \n",
       "117402  https://twitter.com/rickyrickstir/status/13600...   \n",
       "117403  https://twitter.com/PunjabTak/status/136004014...   \n",
       "117404  https://twitter.com/ish_kayy/status/1360040134...   \n",
       "117405  https://twitter.com/TV9Bharatvarsh/status/1360...   \n",
       "117406  https://twitter.com/SikhVibes/status/136004012...   \n",
       "\n",
       "                            date  \\\n",
       "105060 2021-02-12 23:59:59+00:00   \n",
       "105061 2021-02-12 23:59:57+00:00   \n",
       "105062 2021-02-12 23:59:40+00:00   \n",
       "105063 2021-02-12 23:59:16+00:00   \n",
       "105064 2021-02-12 23:59:07+00:00   \n",
       "...                          ...   \n",
       "117402 2021-02-12 01:37:02+00:00   \n",
       "117403 2021-02-12 01:36:53+00:00   \n",
       "117404 2021-02-12 01:36:50+00:00   \n",
       "117405 2021-02-12 01:36:49+00:00   \n",
       "117406 2021-02-12 01:36:49+00:00   \n",
       "\n",
       "                                                  content  \\\n",
       "105060                                    #FarmersProtest   \n",
       "105061  #nodeepkaur #freejagginow #MahapanchayatRevolu...   \n",
       "105062  @BaazNewsOrg #nodeepkaur #freejagginow #Mahapa...   \n",
       "105063  #nodeepkaur #freejagginow #MahapanchayatRevolu...   \n",
       "105064            #FarmersProtest https://t.co/5PArZdboy0   \n",
       "...                                                   ...   \n",
       "117402  #FarmersProtest #KisanAndolan #KisaanMajdoorEk...   \n",
       "117403  PM मोदी की अपील के बीच संयुक्त किसान मोर्चा का...   \n",
       "117404  United we stand.\\nDivided we fall\\n#Mahapancha...   \n",
       "117405  सिंघु बॉर्डर पर लंबी लड़ाई की तैयारी, किसानों ...   \n",
       "117406  @Kisanektamorcha We are with you, keep the mor...   \n",
       "\n",
       "                                          renderedContent  \\\n",
       "105060                                    #FarmersProtest   \n",
       "105061  #nodeepkaur #freejagginow #MahapanchayatRevolu...   \n",
       "105062  @BaazNewsOrg #nodeepkaur #freejagginow #Mahapa...   \n",
       "105063  #nodeepkaur #freejagginow #MahapanchayatRevolu...   \n",
       "105064            #FarmersProtest https://t.co/5PArZdboy0   \n",
       "...                                                   ...   \n",
       "117402  #FarmersProtest #KisanAndolan #KisaanMajdoorEk...   \n",
       "117403  PM मोदी की अपील के बीच संयुक्त किसान मोर्चा का...   \n",
       "117404  United we stand.\\nDivided we fall\\n#Mahapancha...   \n",
       "117405  सिंघु बॉर्डर पर लंबी लड़ाई की तैयारी, किसानों ...   \n",
       "117406  @Kisanektamorcha We are with you, keep the mor...   \n",
       "\n",
       "                         id  \\\n",
       "105060  1360378149003874305   \n",
       "105061  1360378137046118400   \n",
       "105062  1360378065499602947   \n",
       "105063  1360377968699338754   \n",
       "105064  1360377930040430594   \n",
       "...                     ...   \n",
       "117402  1360040182771163138   \n",
       "117403  1360040146402373637   \n",
       "117404  1360040134230556678   \n",
       "117405  1360040127679000577   \n",
       "117406  1360040127146430470   \n",
       "\n",
       "                                                     user  \\\n",
       "105060  {'username': 'Aman96442728', 'displayname': 'A...   \n",
       "105061  {'username': 'Gurpreetd86', 'displayname': 'Gu...   \n",
       "105062  {'username': 'Gurpreetd86', 'displayname': 'Gu...   \n",
       "105063  {'username': 'Gurpreetd86', 'displayname': 'Gu...   \n",
       "105064  {'username': 'gpd_bhangra', 'displayname': 'Ga...   \n",
       "...                                                   ...   \n",
       "117402  {'username': 'rickyrickstir', 'displayname': '...   \n",
       "117403  {'username': 'PunjabTak', 'displayname': 'Punj...   \n",
       "117404  {'username': 'ish_kayy', 'displayname': 'ishy'...   \n",
       "117405  {'username': 'TV9Bharatvarsh', 'displayname': ...   \n",
       "117406  {'username': 'SikhVibes', 'displayname': 'Sikh...   \n",
       "\n",
       "                                                 outlinks  \\\n",
       "105060                                                 []   \n",
       "105061  [https://twitter.com/UK51NGH/status/1360377290...   \n",
       "105062                                                 []   \n",
       "105063  [https://twitter.com/BaazNewsOrg/status/136030...   \n",
       "105064                                                 []   \n",
       "...                                                   ...   \n",
       "117402                                                 []   \n",
       "117403                     [https://youtu.be/aG3qHGwoYag]   \n",
       "117404                                                 []   \n",
       "117405  [https://www.tv9hindi.com/india/farmers-protes...   \n",
       "117406                                                 []   \n",
       "\n",
       "                      tcooutlinks  replyCount  retweetCount  ...  \\\n",
       "105060                         []           0             0  ...   \n",
       "105061  [https://t.co/haAroa5swm]           0             0  ...   \n",
       "105062                         []           0             0  ...   \n",
       "105063  [https://t.co/gy7cpgwHWK]           0             0  ...   \n",
       "105064                         []           1             0  ...   \n",
       "...                           ...         ...           ...  ...   \n",
       "117402                         []           0             0  ...   \n",
       "117403  [https://t.co/AzZNOGI8BX]           0             0  ...   \n",
       "117404                         []           0            65  ...   \n",
       "117405  [https://t.co/bkjh7WXc0w]           0             1  ...   \n",
       "117406                         []           2            19  ...   \n",
       "\n",
       "             conversationId  lang  \\\n",
       "105060  1360378149003874305   und   \n",
       "105061  1360378137046118400   und   \n",
       "105062  1360308284922728451   und   \n",
       "105063  1360377968699338754   und   \n",
       "105064  1360377930040430594   und   \n",
       "...                     ...   ...   \n",
       "117402  1360040182771163138   und   \n",
       "117403  1360040146402373637    hi   \n",
       "117404  1360040134230556678    en   \n",
       "117405  1360040127679000577    hi   \n",
       "117406  1360038291471388672    en   \n",
       "\n",
       "                                                   source  \\\n",
       "105060  <a href=\"http://twitter.com/download/iphone\" r...   \n",
       "105061  <a href=\"http://twitter.com/download/android\" ...   \n",
       "105062  <a href=\"http://twitter.com/download/android\" ...   \n",
       "105063  <a href=\"http://twitter.com/download/android\" ...   \n",
       "105064  <a href=\"http://twitter.com/download/iphone\" r...   \n",
       "...                                                   ...   \n",
       "117402  <a href=\"http://twitter.com/download/iphone\" r...   \n",
       "117403  <a href=\"https://mobile.twitter.com\" rel=\"nofo...   \n",
       "117404  <a href=\"https://mobile.twitter.com\" rel=\"nofo...   \n",
       "117405  <a href=\"https://mobile.twitter.com\" rel=\"nofo...   \n",
       "117406  <a href=\"http://twitter.com/download/iphone\" r...   \n",
       "\n",
       "                                  sourceUrl          sourceLabel  \\\n",
       "105060   http://twitter.com/download/iphone   Twitter for iPhone   \n",
       "105061  http://twitter.com/download/android  Twitter for Android   \n",
       "105062  http://twitter.com/download/android  Twitter for Android   \n",
       "105063  http://twitter.com/download/android  Twitter for Android   \n",
       "105064   http://twitter.com/download/iphone   Twitter for iPhone   \n",
       "...                                     ...                  ...   \n",
       "117402   http://twitter.com/download/iphone   Twitter for iPhone   \n",
       "117403           https://mobile.twitter.com      Twitter Web App   \n",
       "117404           https://mobile.twitter.com      Twitter Web App   \n",
       "117405           https://mobile.twitter.com      Twitter Web App   \n",
       "117406   http://twitter.com/download/iphone   Twitter for iPhone   \n",
       "\n",
       "                                                    media retweetedTweet  \\\n",
       "105060                                               None            NaN   \n",
       "105061                                               None            NaN   \n",
       "105062                                               None            NaN   \n",
       "105063                                               None            NaN   \n",
       "105064  [{'previewUrl': 'https://pbs.twimg.com/media/E...            NaN   \n",
       "...                                                   ...            ...   \n",
       "117402                                               None            NaN   \n",
       "117403  [{'previewUrl': 'https://pbs.twimg.com/media/E...            NaN   \n",
       "117404  [{'previewUrl': 'https://pbs.twimg.com/media/E...            NaN   \n",
       "117405                                               None            NaN   \n",
       "117406                                               None            NaN   \n",
       "\n",
       "                                              quotedTweet  \\\n",
       "105060                                               None   \n",
       "105061  {'url': 'https://twitter.com/UK51NGH/status/13...   \n",
       "105062                                               None   \n",
       "105063  {'url': 'https://twitter.com/BaazNewsOrg/statu...   \n",
       "105064                                               None   \n",
       "...                                                   ...   \n",
       "117402                                               None   \n",
       "117403                                               None   \n",
       "117404                                               None   \n",
       "117405                                               None   \n",
       "117406                                               None   \n",
       "\n",
       "                                           mentionedUsers     newDate  \n",
       "105060                                               None  2021-02-12  \n",
       "105061                                               None  2021-02-12  \n",
       "105062  [{'username': 'BaazNewsOrg', 'displayname': 'B...  2021-02-12  \n",
       "105063                                               None  2021-02-12  \n",
       "105064                                               None  2021-02-12  \n",
       "...                                                   ...         ...  \n",
       "117402                                               None  2021-02-12  \n",
       "117403                                               None  2021-02-12  \n",
       "117404                                               None  2021-02-12  \n",
       "117405                                               None  2021-02-12  \n",
       "117406  [{'username': 'Kisanektamorcha', 'displayname'...  2021-02-12  \n",
       "\n",
       "[12347 rows x 22 columns]"
      ]
     },
     "execution_count": 12,
     "metadata": {},
     "output_type": "execute_result"
    }
   ],
   "source": [
    "sub_df"
   ]
  },
  {
   "cell_type": "markdown",
   "metadata": {},
   "source": [
    "*Ahora podemos realizar un pequeña generalizacion de la solucion, para obtener el top 10 de fechas con mas tweets y los usuario con mas tweets en ese dia, para ello podemos hacer uso del ciclo for:*"
   ]
  },
  {
   "cell_type": "code",
   "execution_count": 13,
   "metadata": {
    "tags": []
   },
   "outputs": [
    {
     "name": "stdout",
     "output_type": "stream",
     "text": [
      "2021-02-12\n",
      "12347\n",
      "2021-02-13\n",
      "11296\n",
      "2021-02-17\n",
      "11087\n",
      "2021-02-16\n",
      "10443\n",
      "2021-02-14\n",
      "10249\n",
      "2021-02-18\n",
      "9625\n",
      "2021-02-15\n",
      "9197\n",
      "2021-02-20\n",
      "8502\n",
      "2021-02-23\n",
      "8417\n",
      "2021-02-19\n",
      "8204\n"
     ]
    },
    {
     "data": {
      "text/plain": [
       "[(datetime.date(2021, 2, 12), 'RanbirS00614606'),\n",
       " (datetime.date(2021, 2, 13), 'MaanDee08215437'),\n",
       " (datetime.date(2021, 2, 17), 'RaaJVinderkaur'),\n",
       " (datetime.date(2021, 2, 16), 'jot__b'),\n",
       " (datetime.date(2021, 2, 14), 'rebelpacifist'),\n",
       " (datetime.date(2021, 2, 18), 'neetuanjle_nitu'),\n",
       " (datetime.date(2021, 2, 15), 'jot__b'),\n",
       " (datetime.date(2021, 2, 20), 'MangalJ23056160'),\n",
       " (datetime.date(2021, 2, 23), 'Surrypuria'),\n",
       " (datetime.date(2021, 2, 19), 'Preetm91')]"
      ]
     },
     "execution_count": 13,
     "metadata": {},
     "output_type": "execute_result"
    }
   ],
   "source": [
    "result =[]\n",
    "for date in top_dates:\n",
    "    #filtro el DataFrame con las fechas especificas \n",
    "    print(date)\n",
    "    sub_df= df[df['newDate'] == date]\n",
    "    print(len(sub_df))\n",
    "    \n",
    "    #encontrar el ususario con mas tweets para la fecha dada\n",
    "    top_user = sub_df['user'].apply(lambda x: x['username']).value_counts().idxmax()\n",
    "    \n",
    "    result.append((date, top_user))\n",
    "\n",
    "result"
   ]
  },
  {
   "cell_type": "markdown",
   "metadata": {},
   "source": [
    "#### Punto 2"
   ]
  },
  {
   "cell_type": "markdown",
   "metadata": {},
   "source": [
    "- Para abarcar el punto 2, se requiere analizar la columna 'content' la cual contiene el texto de tweet, en esta columna podemos encontrar los emojis utilizados en cada uno de los tweets"
   ]
  },
  {
   "cell_type": "code",
   "execution_count": 14,
   "metadata": {
    "tags": []
   },
   "outputs": [
    {
     "data": {
      "text/plain": [
       "\"#FarmersProtest \\n#ModiIgnoringFarmersDeaths \\n#ModiDontSellFarmers \\n@Kisanektamorcha \\nFarmers constantly distroying crops throughout India. \\nReally, it's hearts breaking...we care about our crops like our children. And govt. agriculture minister is laughing on us🚜🌾WE WILL WIN💪 https://t.co/kLspngG9xE\""
      ]
     },
     "execution_count": 14,
     "metadata": {},
     "output_type": "execute_result"
    }
   ],
   "source": [
    "tweet=df['content'][1]\n",
    "tweet"
   ]
  },
  {
   "cell_type": "markdown",
   "metadata": {},
   "source": [
    "Para solucionar la problematica, analizando el contenido del texto, se me ocurren dos posibles solciones:\n",
    "\n",
    "1. Utilizar expresiones regulares para encontrar los emojis, esto implica crear un diccionario con cada una de las expresiones regulares que me definen un emoji.\n",
    "\n",
    "2. Usar la biblioteca de python llamada 'emoji', es una biblioteca que me ayuda a la deteccion de emojis en un texto, tengo conocimiento de esta biblioteca debido a que en una de mis experiencias laborales trabaje en un proyecto de scraping y analisis de comentarios en Instagram, esta biblioteca en su momento abarcaba una mayor cantidad de emojis de las que se pueden generalizar por regex, obteniendo un muy buen performance. "
   ]
  },
  {
   "cell_type": "code",
   "execution_count": 15,
   "metadata": {
    "tags": []
   },
   "outputs": [],
   "source": [
    "#expresiones regulares \n",
    "import re\n",
    "\n",
    "# Expresión regular para encontrar emojis\n",
    "emoji_pattern = re.compile(\"[\"\n",
    "                           u\"\\U0001F600-\\U0001F64F\"  # emoticons\n",
    "                           u\"\\U0001F300-\\U0001F5FF\"  # symbols & pictographs\n",
    "                           u\"\\U0001F680-\\U0001F6FF\"  # transport & map symbols\n",
    "                           u\"\\U0001F1E0-\\U0001F1FF\"  # flags (iOS)\n",
    "                           \"]+\", flags=re.UNICODE)\n",
    "\n",
    "df['emojis'] = df['content'].apply(lambda x: re.findall(emoji_pattern, x))"
   ]
  },
  {
   "cell_type": "code",
   "execution_count": 16,
   "metadata": {
    "tags": []
   },
   "outputs": [
    {
     "data": {
      "text/plain": [
       "['🚜🌾', '💪']"
      ]
     },
     "execution_count": 16,
     "metadata": {},
     "output_type": "execute_result"
    }
   ],
   "source": [
    "df['emojis'][1]"
   ]
  },
  {
   "cell_type": "code",
   "execution_count": 17,
   "metadata": {
    "tags": []
   },
   "outputs": [
    {
     "data": {
      "text/plain": [
       "0         NaN\n",
       "1          🚜🌾\n",
       "1           💪\n",
       "2         NaN\n",
       "3         NaN\n",
       "         ... \n",
       "117402    NaN\n",
       "117403    NaN\n",
       "117404    NaN\n",
       "117405    NaN\n",
       "117406      💪\n",
       "Name: emojis, Length: 122083, dtype: object"
      ]
     },
     "execution_count": 17,
     "metadata": {},
     "output_type": "execute_result"
    }
   ],
   "source": [
    "all_emojis = df['emojis'].explode()\n",
    "all_emojis"
   ]
  },
  {
   "cell_type": "code",
   "execution_count": 18,
   "metadata": {
    "tags": []
   },
   "outputs": [
    {
     "data": {
      "text/plain": [
       "1         🚜🌾\n",
       "1          💪\n",
       "21        🙄🙄\n",
       "29        🇮🇳\n",
       "41        👇👇\n",
       "          ..\n",
       "117344     🌾\n",
       "117368     🛑\n",
       "117371     💯\n",
       "117395    🇮🇳\n",
       "117406     💪\n",
       "Name: emojis, Length: 18539, dtype: object"
      ]
     },
     "execution_count": 18,
     "metadata": {},
     "output_type": "execute_result"
    }
   ],
   "source": [
    "all_emojis[pd.notna(all_emojis)]"
   ]
  },
  {
   "cell_type": "code",
   "execution_count": 19,
   "metadata": {
    "tags": []
   },
   "outputs": [
    {
     "data": {
      "text/plain": [
       "emojis\n",
       "🙏     2123\n",
       "😂      633\n",
       "🌾      605\n",
       "💚      533\n",
       "👍      471\n",
       "👉      450\n",
       "🇮🇳     426\n",
       "🙏🙏     403\n",
       "👇      390\n",
       "🏽      332\n",
       "Name: count, dtype: int64"
      ]
     },
     "execution_count": 19,
     "metadata": {},
     "output_type": "execute_result"
    }
   ],
   "source": [
    "all_emojis.value_counts().head(10)"
   ]
  },
  {
   "cell_type": "code",
   "execution_count": 57,
   "metadata": {
    "tags": []
   },
   "outputs": [
    {
     "name": "stdout",
     "output_type": "stream",
     "text": [
      "Collecting emoji\n",
      "  Downloading emoji-2.12.1-py3-none-any.whl.metadata (5.4 kB)\n",
      "Requirement already satisfied: typing-extensions>=4.7.0 in /opt/conda/lib/python3.10/site-packages (from emoji) (4.12.2)\n",
      "Downloading emoji-2.12.1-py3-none-any.whl (431 kB)\n",
      "\u001b[2K   \u001b[90m━━━━━━━━━━━━━━━━━━━━━━━━━━━━━━━━━━━━━━━━\u001b[0m \u001b[32m431.4/431.4 kB\u001b[0m \u001b[31m8.7 MB/s\u001b[0m eta \u001b[36m0:00:00\u001b[0ma \u001b[36m0:00:01\u001b[0m\n",
      "\u001b[?25hInstalling collected packages: emoji\n",
      "Successfully installed emoji-2.12.1\n"
     ]
    }
   ],
   "source": [
    "!pip install emoji"
   ]
  },
  {
   "cell_type": "code",
   "execution_count": 20,
   "metadata": {
    "tags": []
   },
   "outputs": [],
   "source": [
    "import emoji\n",
    "\n",
    "# Función para extraer emojis\n",
    "def extract_emojis(text):\n",
    "    return [char for char in text if emoji.is_emoji(char)]"
   ]
  },
  {
   "cell_type": "code",
   "execution_count": 21,
   "metadata": {
    "tags": []
   },
   "outputs": [],
   "source": [
    "# Extraer y contar emojis\n",
    "df['emojis'] = df['content'].apply(extract_emojis)\n",
    "all_emojis = df['emojis'].explode()"
   ]
  },
  {
   "cell_type": "code",
   "execution_count": 22,
   "metadata": {
    "tags": []
   },
   "outputs": [
    {
     "data": {
      "text/plain": [
       "0         NaN\n",
       "1           🚜\n",
       "1           🌾\n",
       "1           💪\n",
       "2           🤫\n",
       "         ... \n",
       "117402    NaN\n",
       "117403    NaN\n",
       "117404    NaN\n",
       "117405    NaN\n",
       "117406      💪\n",
       "Name: emojis, Length: 146482, dtype: object"
      ]
     },
     "execution_count": 22,
     "metadata": {},
     "output_type": "execute_result"
    }
   ],
   "source": [
    "all_emojis"
   ]
  },
  {
   "cell_type": "code",
   "execution_count": 23,
   "metadata": {
    "tags": []
   },
   "outputs": [
    {
     "data": {
      "text/plain": [
       "1         🚜\n",
       "1         🌾\n",
       "1         💪\n",
       "2         🤫\n",
       "2         🤫\n",
       "         ..\n",
       "117371    💯\n",
       "117374    ✅\n",
       "117374    ✅\n",
       "117398    ✊\n",
       "117406    💪\n",
       "Name: emojis, Length: 45636, dtype: object"
      ]
     },
     "execution_count": 23,
     "metadata": {},
     "output_type": "execute_result"
    }
   ],
   "source": [
    "all_emojis[pd.notna(all_emojis)]"
   ]
  },
  {
   "cell_type": "code",
   "execution_count": 24,
   "metadata": {
    "tags": []
   },
   "outputs": [
    {
     "data": {
      "text/plain": [
       "emojis\n",
       "🙏    7286\n",
       "😂    3072\n",
       "🚜    2972\n",
       "✊    2411\n",
       "🌾    2363\n",
       "🏻    2080\n",
       "❤    1779\n",
       "🤣    1668\n",
       "🏽    1218\n",
       "👇    1108\n",
       "Name: count, dtype: int64"
      ]
     },
     "execution_count": 24,
     "metadata": {},
     "output_type": "execute_result"
    }
   ],
   "source": [
    "top_emojis = all_emojis.value_counts().head(10)\n",
    "top_emojis"
   ]
  },
  {
   "cell_type": "markdown",
   "metadata": {
    "tags": []
   },
   "source": [
    "#### Punto 3\n",
    "\n",
    "Para el punto 3 debemos obtener el top de usuarios mas influyendes, dependiendo del conteo de menciones que realiza el usuario en un tweet. Para ello se utiliza la columna **content** para obtener el contenido del tweet y contar el numero de menciones por tweets que realiza el usuario, adcional necesitaremos la columna **user** para obtener el nombre del usuario que realiza la mencion.\n",
    "\n",
    "Exploraremos la data y una posible solucion, en busca de anomalias en la data y conocimiento de la misma, este analisis continua siendo parte del analisis exploratorio"
   ]
  },
  {
   "cell_type": "code",
   "execution_count": 64,
   "metadata": {
    "tags": []
   },
   "outputs": [
    {
     "data": {
      "text/plain": [
       "'#ModiDontSellFarmers\\n#FarmersProtest https://t.co/uGQb1O5Jg9'"
      ]
     },
     "execution_count": 64,
     "metadata": {},
     "output_type": "execute_result"
    }
   ],
   "source": [
    "df['content'][7]"
   ]
  },
  {
   "cell_type": "code",
   "execution_count": 33,
   "metadata": {
    "tags": []
   },
   "outputs": [],
   "source": [
    "# Expresión regular para encontrar menciones\n",
    "mention_pattern = re.compile(r'@(\\w+)')\n",
    "df['mentions'] = df['content'].apply(lambda x: mention_pattern.findall(x))"
   ]
  },
  {
   "cell_type": "code",
   "execution_count": 46,
   "metadata": {
    "tags": []
   },
   "outputs": [],
   "source": [
    "# Crear un contador para menciones hechas por cada usuario\n",
    "df['username'] = df['user'].apply(lambda x: x['username'])\n",
    "user_mention_counts = df.groupby('username')['mentions'].sum()"
   ]
  },
  {
   "cell_type": "code",
   "execution_count": 52,
   "metadata": {
    "tags": []
   },
   "outputs": [],
   "source": [
    "user_count=df.explode('mentions').groupby('username')['mentions'].count()"
   ]
  },
  {
   "cell_type": "code",
   "execution_count": 65,
   "metadata": {
    "tags": []
   },
   "outputs": [
    {
     "data": {
      "text/plain": [
       "username\n",
       "loyal90901246      2479\n",
       "_gurviir           1826\n",
       "neetuanjle_nitu    1796\n",
       "JaiHind58236291    1696\n",
       "preetysaini321      930\n",
       "JoyJ69957841        915\n",
       "Gurpreetd86         844\n",
       "jot__b              840\n",
       "ScitaramSays        807\n",
       "mani262002          778\n",
       "Name: mentions, dtype: int64"
      ]
     },
     "execution_count": 65,
     "metadata": {},
     "output_type": "execute_result"
    }
   ],
   "source": [
    "top_users = user_count.nlargest(10)\n",
    "top_users"
   ]
  },
  {
   "cell_type": "code",
   "execution_count": 62,
   "metadata": {
    "tags": []
   },
   "outputs": [
    {
     "data": {
      "text/plain": [
       "[('loyal90901246', 2479),\n",
       " ('_gurviir', 1826),\n",
       " ('neetuanjle_nitu', 1796),\n",
       " ('JaiHind58236291', 1696),\n",
       " ('preetysaini321', 930),\n",
       " ('JoyJ69957841', 915),\n",
       " ('Gurpreetd86', 844),\n",
       " ('jot__b', 840),\n",
       " ('ScitaramSays', 807),\n",
       " ('mani262002', 778)]"
      ]
     },
     "execution_count": 62,
     "metadata": {},
     "output_type": "execute_result"
    }
   ],
   "source": [
    "list(top_users.items())"
   ]
  },
  {
   "cell_type": "markdown",
   "metadata": {},
   "source": [
    "#"
   ]
  }
 ],
 "metadata": {
  "environment": {
   "kernel": "python3",
   "name": "common-cu113.m123",
   "type": "gcloud",
   "uri": "us-docker.pkg.dev/deeplearning-platform-release/gcr.io/base-cu113:m123"
  },
  "kernelspec": {
   "display_name": "Python 3",
   "language": "python",
   "name": "python3"
  },
  "language_info": {
   "codemirror_mode": {
    "name": "ipython",
    "version": 3
   },
   "file_extension": ".py",
   "mimetype": "text/x-python",
   "name": "python",
   "nbconvert_exporter": "python",
   "pygments_lexer": "ipython3",
   "version": "3.10.14"
  }
 },
 "nbformat": 4,
 "nbformat_minor": 4
}
